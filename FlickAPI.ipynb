{
  "nbformat": 4,
  "nbformat_minor": 0,
  "metadata": {
    "colab": {
      "provenance": [],
      "authorship_tag": "ABX9TyOoQz6lbJrGV6mAujL5+yRv",
      "include_colab_link": true
    },
    "kernelspec": {
      "name": "python3",
      "display_name": "Python 3"
    },
    "language_info": {
      "name": "python"
    }
  },
  "cells": [
    {
      "cell_type": "markdown",
      "metadata": {
        "id": "view-in-github",
        "colab_type": "text"
      },
      "source": [
        "<a href=\"https://colab.research.google.com/github/TrifanLucian/Performance-Analysis-of-Deep-Learning-Algorithms/blob/main/FlickAPI.ipynb\" target=\"_parent\"><img src=\"https://colab.research.google.com/assets/colab-badge.svg\" alt=\"Open In Colab\"/></a>"
      ]
    },
    {
      "cell_type": "code",
      "execution_count": null,
      "metadata": {
        "id": "mw-zB8bHIwRp"
      },
      "outputs": [],
      "source": [
        "import os\n",
        "import urllib.request\n",
        "from flickrapi import FlickrAPI\n",
        "import time\n",
        "import urllib.error\n",
        "from PIL import Image\n",
        "\n",
        "# Flickr API credentials\n",
        "FLICKR_PUBLIC = 'b772eeebe6f9c823f99b6b51fae41fe7'\n",
        "FLICKR_SECRET = 'b97d32c828e6a8a2'\n",
        "\n",
        "# Initialize FlickrAPI object\n",
        "flickr = FlickrAPI(FLICKR_PUBLIC, FLICKR_SECRET, format='parsed-json')\n",
        "\n",
        "# Define your search parameters\n",
        "search_params = {\n",
        "    'text': 'apples',\n",
        "    'per_page': 500,  # Increase per_page to 500\n",
        "    'media': 'photos',  # Search for photos\n",
        "    'sort': 'relevance',  # Sort by relevance\n",
        "    'safe_search': 1,  # Safe search mode on\n",
        "    'content_type': 1,  # Only photos\n",
        "    'extras': 'url_o',  # Get the original image URL\n",
        "}\n",
        "\n",
        "# Directory to save the downloaded images\n",
        "output_directory = r\"C:\\Users\\Lucian\\Downloads\\fructe\\mere_resized\"\n",
        "\n",
        "# Ensure output directory exists\n",
        "os.makedirs(output_directory, exist_ok=True)\n",
        "\n",
        "# Download counter\n",
        "downloaded_count = 0\n",
        "\n",
        "# Perform searches until 3000 photos are downloaded\n",
        "while downloaded_count < 10000:\n",
        "    try:\n",
        "        # Perform the search\n",
        "        response = flickr.photos.search(**search_params)\n",
        "\n",
        "        # Parse the response and download the photos\n",
        "        if response['stat'] == 'ok':\n",
        "            photos = response['photos']['photo']\n",
        "            for photo in photos:\n",
        "                if 'url_o' in photo:\n",
        "                    photo_url = photo['url_o']\n",
        "                    # Extract the filename from the photo URL\n",
        "                    filename = os.path.basename(photo_url)\n",
        "                    # Check if the filename already exists in the output directory\n",
        "                    if not os.path.exists(os.path.join(output_directory, filename)):\n",
        "                        # Download the photo\n",
        "                        output_path = os.path.join(output_directory, filename)\n",
        "                        urllib.request.urlretrieve(photo_url, output_path)\n",
        "                        print(f\"Downloaded: {filename}\")\n",
        "\n",
        "                        # Resize the downloaded image to 256x256 pixels\n",
        "                        try:\n",
        "                            with Image.open(output_path) as img:\n",
        "                                resized_img = img.resize((256, 256))\n",
        "                                resized_img.save(output_path)\n",
        "                                print(f\"Resized: {filename} to 256x256\")\n",
        "                        except Exception as e:\n",
        "                            print(f\"Error resizing image {filename}: {e}\")\n",
        "\n",
        "                        downloaded_count += 1\n",
        "                        if downloaded_count >= 10000:\n",
        "                            break  # Stop if 3000 photos are downloaded\n",
        "                    else:\n",
        "                        print(f\"Skipping {filename}: File already exists in output directory.\")\n",
        "        else:\n",
        "            print(\"Failed to perform Flickr API search.\")\n",
        "            break\n",
        "    except (urllib.error.URLError, http.client.RemoteDisconnected) as e:\n",
        "        print(f\"Error: {e}. Retrying in 5 seconds...\")\n",
        "        time.sleep(5)  # Retry after 5 seconds\n",
        "\n",
        "# Inform if the target number of photos is reached\n",
        "print(f\"Downloaded and resized {downloaded_count} photos.\")"
      ]
    }
  ]
}